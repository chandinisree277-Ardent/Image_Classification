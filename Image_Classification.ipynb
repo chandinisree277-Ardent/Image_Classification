{
  "nbformat": 4,
  "nbformat_minor": 0,
  "metadata": {
    "colab": {
      "provenance": []
    },
    "kernelspec": {
      "name": "python3",
      "display_name": "Python 3"
    },
    "language_info": {
      "name": "python"
    }
  },
  "cells": [
    {
      "cell_type": "code",
      "execution_count": null,
      "metadata": {
        "id": "bCYN2eAZsuhr"
      },
      "outputs": [],
      "source": [
        "import tensorflow as tf\n",
        "from tensorflow.keras import datasets,layers, models\n",
        "import matplotlib.pyplot as plt\n",
        "import numpy as np\n",
        "(X_train, y_train), (X_test,y_test) = datasets.cifar10.load_data()\n",
        "\n",
        "\n",
        "\n",
        "[]\n",
        "y_train.shape\n",
        "\n",
        "\n",
        "[ ]\n",
        "X_test.shape\n",
        "\n",
        "[ ]\n",
        "y_train[:5]\n",
        "\n",
        "\n",
        "y_train = y_train.reshape(-1,)\n",
        "y_train[:5]\n",
        "\n",
        "\n",
        "\n",
        "classes = [\"airplane\",\"automobile\",\"bird\",\"cat\",\"deer\",\"dog\",\"frog\",\"horse\",\"s hip\",\"truck\"]\n",
        "def plot_sample(X, y, index):\n",
        "  plt.figure(figsize = (15,2))\n",
        "  plt.imshow(X[index])\n",
        "  plt.xlabel(classes[y[index]])\n",
        "plot_sample(X_train, y_train, 1)\n",
        "\n",
        "\n",
        "\n",
        "[ ]\n",
        "plot_sample(X_train, y_train, 2)\n",
        "\n",
        "\n",
        "\n",
        " [ ]\n",
        "X_train = X_train / 255.0\n",
        "X_test = X_test / 255.0\n",
        "X_test\n",
        "\n"
      ]
    }
  ]
}